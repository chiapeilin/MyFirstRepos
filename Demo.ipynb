{
 "cells": [
  {
   "cell_type": "code",
   "execution_count": 1,
   "id": "83064078",
   "metadata": {},
   "outputs": [],
   "source": [
    "import fastavro\n",
    "import pickle\n",
    "import json\n",
    "import time\n",
    "import sys  \n",
    "import os"
   ]
  },
  {
   "cell_type": "code",
   "execution_count": 2,
   "id": "61e6af9b",
   "metadata": {},
   "outputs": [
    {
     "data": {
      "text/plain": [
       "[{'id': 1, 'name': 'name_1'},\n",
       " {'id': 2, 'name': 'name_2'},\n",
       " {'id': 3, 'name': 'name_3'},\n",
       " {'id': 4, 'name': 'name_4'},\n",
       " {'id': 5, 'name': 'name_5'},\n",
       " {'id': 6, 'name': 'name_6'},\n",
       " {'id': 7, 'name': 'name_7'},\n",
       " {'id': 8, 'name': 'name_8'},\n",
       " {'id': 9, 'name': 'name_9'},\n",
       " {'id': 10, 'name': 'name_10'}]"
      ]
     },
     "execution_count": 2,
     "metadata": {},
     "output_type": "execute_result"
    }
   ],
   "source": [
    "# Generate a sample dictionary containing a large amount of data\n",
    "data = [{'id': i, 'name': f'name_{i}'} for i in range(1, 5000000)]\n",
    "data[:10]"
   ]
  },
  {
   "cell_type": "markdown",
   "id": "8c6cf1c0",
   "metadata": {},
   "source": [
    "**Avro** is developed within Apache's Hadoop project and offers:\n",
    "* Rich data structures.\n",
    "* Compact, fast, binary data format.\n",
    "* Container file for persistent data storage.\n",
    "* JSON-defined Avro schemas.\n",
    "* Multi-language support."
   ]
  },
  {
   "cell_type": "markdown",
   "id": "91c42f1d",
   "metadata": {},
   "source": [
    "## Fastavro v.s Json v.s Pickle "
   ]
  },
  {
   "cell_type": "code",
   "execution_count": 3,
   "id": "41f308af",
   "metadata": {},
   "outputs": [
    {
     "name": "stdout",
     "output_type": "stream",
     "text": [
      "File size: \n",
      "Fastavro file size: 79.09860897064209 MB\n",
      "JSON file size: 193.38396453857422 MB\n",
      "Pickle file size: 132.3572645187378 MB\n",
      "\n",
      "Time:\n",
      "Fastavro took 2.4596469402313232 seconds to read Avro file.\n",
      "Json took 1.1699340343475342 seconds to read JSON file.\n",
      "Pickle took 0.7435681819915771 seconds to read Pickle file.\n"
     ]
    }
   ],
   "source": [
    "# Write the data to an Avro file\n",
    "avro_file_path = 'example.avro'\n",
    "schema = fastavro.parse_schema({\n",
    "    'type': 'record',\n",
    "    'name': 'Example',\n",
    "    'fields': [{'name': 'id', 'type': 'int'}, {'name': 'name', 'type': 'string'}]\n",
    "})\n",
    "with open(avro_file_path, 'wb') as avro_file:\n",
    "    fastavro.writer(avro_file, schema=schema, records=data) # , codec=\"snappy\"\n",
    "\n",
    "# Write the data to a JSON file\n",
    "json_file_path = 'example.json'\n",
    "with open(json_file_path, 'w') as json_file:\n",
    "    json.dump(data, json_file)\n",
    "\n",
    "# Write the data to a Pickle file\n",
    "pickle_file_path = 'example.pkl'\n",
    "with open(pickle_file_path, 'wb') as pickle_file:\n",
    "    pickle.dump(data, pickle_file)\n",
    "\n",
    "    \n",
    "# Measure reading time\n",
    "# Use Fastavro to read the Avro file\n",
    "start_time_avro = time.time()\n",
    "with open(avro_file_path, 'rb') as avro_file:\n",
    "    avro_data = list(fastavro.reader(avro_file))\n",
    "time_avro = time.time() - start_time_avro\n",
    "\n",
    "# Use Json to read the Pickle file\n",
    "start_time_json = time.time()\n",
    "with open('example.json', 'r') as json_file:\n",
    "    json_data = json.load(json_file)\n",
    "time_json = time.time() - start_time_json\n",
    "\n",
    "# Use Pickle to read the Pickle file\n",
    "start_time_pickle = time.time()\n",
    "with open(pickle_file_path, 'rb') as pickle_file:\n",
    "    pickle_data = pickle.load(pickle_file)\n",
    "time_pickle = time.time() - start_time_pickle\n",
    "\n",
    "# Measure sizes \n",
    "avro_size = sys.getsizeof(open(avro_file_path, 'rb').read()) / (1024 * 1024)  # Convert to MB\n",
    "json_size = sys.getsizeof(open(json_file_path, 'rb').read()) / (1024 * 1024)  # Convert to MB\n",
    "pickle_size = sys.getsizeof(open(pickle_file_path, 'rb').read()) / (1024 * 1024)  # Convert to MB\n",
    "\n",
    "# Output execution time and variable sizes\n",
    "print('File size: ')\n",
    "print(f\"Fastavro file size: {avro_size} MB\")\n",
    "print(f\"JSON file size: {json_size} MB\")\n",
    "print(f\"Pickle file size: {pickle_size} MB\")\n",
    "print()\n",
    "print('Time:')\n",
    "print(f'Fastavro took {time_avro} seconds to read Avro file.')\n",
    "print(f'Json took {time_json} seconds to read JSON file.')\n",
    "print(f'Pickle took {time_pickle} seconds to read Pickle file.')"
   ]
  },
  {
   "cell_type": "code",
   "execution_count": 4,
   "id": "33ee9c7c",
   "metadata": {},
   "outputs": [
    {
     "data": {
      "text/plain": [
       "Text(0, 0.5, 'Time (seconds)')"
      ]
     },
     "execution_count": 4,
     "metadata": {},
     "output_type": "execute_result"
    },
    {
     "data": {
      "image/png": "[encoded data removed]",
      "text/plain": [
       "<Figure size 1000x400 with 2 Axes>"
      ]
     },
     "metadata": {},
     "output_type": "display_data"
    }
   ],
   "source": [
    "import matplotlib.pyplot as plt\n",
    "\n",
    "# Create bar plots\n",
    "fig, (ax1, ax2) = plt.subplots(1, 2, figsize=(10, 4))\n",
    "\n",
    "# File size reduction plot\n",
    "ax1.bar(['Fastavro', 'JSON', 'Pickle'], [avro_size, json_size, pickle_size], color=['orange', 'green','blue'])\n",
    "ax1.set_title('File Size Comparison')\n",
    "ax1.set_ylabel('File Size (MB)')\n",
    "\n",
    "# Time savings plot\n",
    "ax2.bar(['Fastavro', 'JSON', 'Pickle'], [time_avro, time_json, time_pickle], color=['orange', 'green','blue'])\n",
    "ax2.set_title('Time Taken Comparison')\n",
    "ax2.set_ylabel('Time (seconds)')"
   ]
  },
  {
   "cell_type": "markdown",
   "id": "e91262a0",
   "metadata": {},
   "source": [
    "File size: \n",
    "Fastavro: 79.09860897064209 MB\n",
    "JSON: 193.38396453857422 MB\n",
    "Pickle: 132.3572645187378 MB\n",
    "\n",
    "Time:\n",
    "Fastavro: 2.3260791301727295 secs\n",
    "JSON: 1.2428178787231445 secs\n",
    "Pickle: 0.9143626689910889 secs"
   ]
  },
  {
   "cell_type": "code",
   "execution_count": null,
   "id": "b665143b",
   "metadata": {},
   "outputs": [],
   "source": []
  }
 ],
 "metadata": {
  "kernelspec": {
   "display_name": "Python 3 (ipykernel)",
   "language": "python",
   "name": "python3"
  },
  "language_info": {
   "codemirror_mode": {
    "name": "ipython",
    "version": 3
   },
   "file_extension": ".py",
   "mimetype": "text/x-python",
   "name": "python",
   "nbconvert_exporter": "python",
   "pygments_lexer": "ipython3",
   "version": "3.11.5"
  }
 },
 "nbformat": 4,
 "nbformat_minor": 5
}
